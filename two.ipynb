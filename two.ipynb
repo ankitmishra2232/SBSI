{
 "cells": [
  {
   "cell_type": "code",
   "execution_count": 1,
   "metadata": {},
   "outputs": [],
   "source": [
    "import numpy as np\n",
    "import pandas as pd\n",
    "import matplotlib.pyplot as plt\n",
    "import os\n",
    "import cv2    \n",
    "from numpy import asarray\n"
   ]
  },
  {
   "cell_type": "code",
   "execution_count": 12,
   "metadata": {},
   "outputs": [],
   "source": [
    "DATADIR = r\"D:/Data science/SBSI/taco/data\""
   ]
  },
  {
   "cell_type": "code",
   "execution_count": 13,
   "metadata": {},
   "outputs": [
    {
     "data": {
      "text/html": [
       "<div>\n",
       "<style scoped>\n",
       "    .dataframe tbody tr th:only-of-type {\n",
       "        vertical-align: middle;\n",
       "    }\n",
       "\n",
       "    .dataframe tbody tr th {\n",
       "        vertical-align: top;\n",
       "    }\n",
       "\n",
       "    .dataframe thead th {\n",
       "        text-align: right;\n",
       "    }\n",
       "</style>\n",
       "<table border=\"1\" class=\"dataframe\">\n",
       "  <thead>\n",
       "    <tr style=\"text-align: right;\">\n",
       "      <th></th>\n",
       "      <th>img_id</th>\n",
       "      <th>img_width</th>\n",
       "      <th>img_height</th>\n",
       "      <th>img_file</th>\n",
       "      <th>cat_id</th>\n",
       "      <th>cat_name</th>\n",
       "      <th>supercategory</th>\n",
       "      <th>ann_id</th>\n",
       "      <th>x</th>\n",
       "      <th>y</th>\n",
       "      <th>width</th>\n",
       "      <th>height</th>\n",
       "      <th>area</th>\n",
       "    </tr>\n",
       "  </thead>\n",
       "  <tbody>\n",
       "    <tr>\n",
       "      <th>0</th>\n",
       "      <td>0</td>\n",
       "      <td>1537</td>\n",
       "      <td>2049</td>\n",
       "      <td>batch_1/000006.jpg</td>\n",
       "      <td>6</td>\n",
       "      <td>Glass bottle</td>\n",
       "      <td>Bottle</td>\n",
       "      <td>1</td>\n",
       "      <td>517.0</td>\n",
       "      <td>127.0</td>\n",
       "      <td>447.0</td>\n",
       "      <td>1322.0</td>\n",
       "      <td>403954.0</td>\n",
       "    </tr>\n",
       "    <tr>\n",
       "      <th>1</th>\n",
       "      <td>1</td>\n",
       "      <td>1537</td>\n",
       "      <td>2049</td>\n",
       "      <td>batch_1/000008.jpg</td>\n",
       "      <td>18</td>\n",
       "      <td>Meal carton</td>\n",
       "      <td>Carton</td>\n",
       "      <td>2</td>\n",
       "      <td>1.0</td>\n",
       "      <td>457.0</td>\n",
       "      <td>1429.0</td>\n",
       "      <td>1519.0</td>\n",
       "      <td>1071259.5</td>\n",
       "    </tr>\n",
       "    <tr>\n",
       "      <th>2</th>\n",
       "      <td>1</td>\n",
       "      <td>1537</td>\n",
       "      <td>2049</td>\n",
       "      <td>batch_1/000008.jpg</td>\n",
       "      <td>14</td>\n",
       "      <td>Other carton</td>\n",
       "      <td>Carton</td>\n",
       "      <td>3</td>\n",
       "      <td>531.0</td>\n",
       "      <td>292.0</td>\n",
       "      <td>1006.0</td>\n",
       "      <td>672.0</td>\n",
       "      <td>99583.5</td>\n",
       "    </tr>\n",
       "    <tr>\n",
       "      <th>3</th>\n",
       "      <td>2</td>\n",
       "      <td>1537</td>\n",
       "      <td>2049</td>\n",
       "      <td>batch_1/000010.jpg</td>\n",
       "      <td>5</td>\n",
       "      <td>Clear plastic bottle</td>\n",
       "      <td>Bottle</td>\n",
       "      <td>4</td>\n",
       "      <td>632.0</td>\n",
       "      <td>987.0</td>\n",
       "      <td>500.0</td>\n",
       "      <td>374.0</td>\n",
       "      <td>73832.5</td>\n",
       "    </tr>\n",
       "    <tr>\n",
       "      <th>4</th>\n",
       "      <td>2</td>\n",
       "      <td>1537</td>\n",
       "      <td>2049</td>\n",
       "      <td>batch_1/000010.jpg</td>\n",
       "      <td>7</td>\n",
       "      <td>Plastic bottle cap</td>\n",
       "      <td>Bottle cap</td>\n",
       "      <td>5</td>\n",
       "      <td>632.0</td>\n",
       "      <td>989.0</td>\n",
       "      <td>44.0</td>\n",
       "      <td>51.0</td>\n",
       "      <td>915.0</td>\n",
       "    </tr>\n",
       "  </tbody>\n",
       "</table>\n",
       "</div>"
      ],
      "text/plain": [
       "   img_id  img_width  img_height            img_file  cat_id  \\\n",
       "0       0       1537        2049  batch_1/000006.jpg       6   \n",
       "1       1       1537        2049  batch_1/000008.jpg      18   \n",
       "2       1       1537        2049  batch_1/000008.jpg      14   \n",
       "3       2       1537        2049  batch_1/000010.jpg       5   \n",
       "4       2       1537        2049  batch_1/000010.jpg       7   \n",
       "\n",
       "               cat_name supercategory  ann_id      x      y   width  height  \\\n",
       "0          Glass bottle        Bottle       1  517.0  127.0   447.0  1322.0   \n",
       "1           Meal carton        Carton       2    1.0  457.0  1429.0  1519.0   \n",
       "2          Other carton        Carton       3  531.0  292.0  1006.0   672.0   \n",
       "3  Clear plastic bottle        Bottle       4  632.0  987.0   500.0   374.0   \n",
       "4    Plastic bottle cap    Bottle cap       5  632.0  989.0    44.0    51.0   \n",
       "\n",
       "        area  \n",
       "0   403954.0  \n",
       "1  1071259.5  \n",
       "2    99583.5  \n",
       "3    73832.5  \n",
       "4      915.0  "
      ]
     },
     "execution_count": 13,
     "metadata": {},
     "output_type": "execute_result"
    }
   ],
   "source": [
    "data =pd.read_csv(\"meta_df.csv\")\n",
    "CATEGORIES=data[\"supercategory\"]\n",
    "data.head()"
   ]
  },
  {
   "cell_type": "code",
   "execution_count": 15,
   "metadata": {},
   "outputs": [
    {
     "name": "stdout",
     "output_type": "stream",
     "text": [
      "16\n",
      "16\n"
     ]
    }
   ],
   "source": [
    "#IMAGE DATASET READING\n",
    "def loadImg(path=r\"D:/Data science/SBSI/taco/data\"):\n",
    "    return[os.path.join(path, fileName) for fileName in os.listdir(path)]\n",
    "print(len(loadImg()))\n",
    "loadedImageFile=loadImg()\n",
    "print(len(loadedImageFile))"
   ]
  },
  {
   "cell_type": "code",
   "execution_count": null,
   "metadata": {},
   "outputs": [],
   "source": []
  }
 ],
 "metadata": {
  "interpreter": {
   "hash": "8382ac96f0f001e586ea254f9eb72aebd04b51b133ae5768fb1c55e32c551d2b"
  },
  "kernelspec": {
   "display_name": "Python 3.8.8 ('base')",
   "language": "python",
   "name": "python3"
  },
  "language_info": {
   "codemirror_mode": {
    "name": "ipython",
    "version": 3
   },
   "file_extension": ".py",
   "mimetype": "text/x-python",
   "name": "python",
   "nbconvert_exporter": "python",
   "pygments_lexer": "ipython3",
   "version": "3.8.8"
  },
  "orig_nbformat": 4
 },
 "nbformat": 4,
 "nbformat_minor": 2
}
